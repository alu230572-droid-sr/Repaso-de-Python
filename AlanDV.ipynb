{
  "nbformat": 4,
  "nbformat_minor": 0,
  "metadata": {
    "colab": {
      "provenance": [],
      "authorship_tag": "ABX9TyP9uB1wOmbqzfoYG7SQPrEV",
      "include_colab_link": true
    },
    "kernelspec": {
      "name": "python3",
      "display_name": "Python 3"
    },
    "language_info": {
      "name": "python"
    }
  },
  "cells": [
    {
      "cell_type": "markdown",
      "metadata": {
        "id": "view-in-github",
        "colab_type": "text"
      },
      "source": [
        "<a href=\"https://colab.research.google.com/github/alu230572-droid-sr/Repaso-de-Python/blob/main/AlanDV.ipynb\" target=\"_parent\"><img src=\"https://colab.research.google.com/assets/colab-badge.svg\" alt=\"Open In Colab\"/></a>"
      ]
    },
    {
      "cell_type": "code",
      "execution_count": null,
      "metadata": {
        "id": "rRPkEaVE_IFx"
      },
      "outputs": [],
      "source": [
        "1.- Realizar un programa en python que te permita capturar 3 números enteros e imprima cual de los 3 es el mayor"
      ]
    },
    {
      "cell_type": "code",
      "source": [
        "num1=int(input(\"Ingresa un numero:\"))\n",
        "num2=int(input(\"Ingresa el segundo numero:\"))\n",
        "num3=int(input(\"Ingresa el tercer numero:\"))\n",
        "\n",
        "mayor = max (num1,num2,num3)\n",
        "print(\"El numero mayor es:\",mayor)\n"
      ],
      "metadata": {
        "colab": {
          "base_uri": "https://localhost:8080/"
        },
        "collapsed": true,
        "id": "loVnKVfu_hEC",
        "outputId": "d54bf424-8228-4e7a-fe5a-3c76b759d0d6"
      },
      "execution_count": 14,
      "outputs": [
        {
          "output_type": "stream",
          "name": "stdout",
          "text": [
            "Ingresa un numero:12\n",
            "Ingresa el segundo numero:34\n",
            "Ingresa el tercer numero:45\n",
            "El numero mayor es: 45\n"
          ]
        }
      ]
    },
    {
      "cell_type": "markdown",
      "source": [
        "2.- Realizar un programa en python mediante el cual calcules el total de caracteres que tiene un nombre capturado desde el teclado."
      ],
      "metadata": {
        "id": "kWUFZ6cS_op5"
      }
    },
    {
      "cell_type": "code",
      "source": [
        "nombre=input(\"Ingresa tu nombre:\")\n",
        "\n",
        "cantidad=len(nombre)\n",
        "print(\"El nombre contiene:\",cantidad)"
      ],
      "metadata": {
        "colab": {
          "base_uri": "https://localhost:8080/"
        },
        "id": "ddwWVLHO_r6w",
        "outputId": "d15906a3-c57b-43b6-d712-cc9092acf42f"
      },
      "execution_count": 5,
      "outputs": [
        {
          "output_type": "stream",
          "name": "stdout",
          "text": [
            "Ingresa tu nombre:alan\n",
            "El nombre contiene: 4\n"
          ]
        }
      ]
    },
    {
      "cell_type": "markdown",
      "source": [
        "3.- Realizar un programa en python que permita imprimir los 7 días de la semana."
      ],
      "metadata": {
        "id": "b-2oAXbA_smo"
      }
    },
    {
      "cell_type": "code",
      "source": [
        "dias = [\"Lunes\",\"Martes\",\"Miercoles\",\"Jueves\",\"Viernes\",\"Sabado\",\"Domingo\"]\n",
        "for dia in dias:\n",
        "  print(dia)\n"
      ],
      "metadata": {
        "colab": {
          "base_uri": "https://localhost:8080/"
        },
        "id": "PhGUC065_wIo",
        "outputId": "7ad1aa49-1ed1-41cf-8cfe-b74a6b8960d9"
      },
      "execution_count": 13,
      "outputs": [
        {
          "output_type": "stream",
          "name": "stdout",
          "text": [
            "Lunes\n",
            "Martes\n",
            "Miercoles\n",
            "Jueves\n",
            "Viernes\n",
            "Sabado\n",
            "Domingo\n"
          ]
        }
      ]
    }
  ]
}