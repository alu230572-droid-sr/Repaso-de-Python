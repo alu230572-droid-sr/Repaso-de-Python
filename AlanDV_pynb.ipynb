{
  "nbformat": 4,
  "nbformat_minor": 0,
  "metadata": {
    "colab": {
      "provenance": [],
      "authorship_tag": "ABX9TyOSYTj1JCakCz1v3OTn0PnH",
      "include_colab_link": true
    },
    "kernelspec": {
      "name": "python3",
      "display_name": "Python 3"
    },
    "language_info": {
      "name": "python"
    }
  },
  "cells": [
    {
      "cell_type": "markdown",
      "metadata": {
        "id": "view-in-github",
        "colab_type": "text"
      },
      "source": [
        "<a href=\"https://colab.research.google.com/github/alu230572-droid-sr/Repaso-de-Python/blob/main/AlanDV_pynb.ipynb\" target=\"_parent\"><img src=\"https://colab.research.google.com/assets/colab-badge.svg\" alt=\"Open In Colab\"/></a>"
      ]
    },
    {
      "cell_type": "code",
      "execution_count": null,
      "metadata": {
        "id": "TQ5bVSl8-7Hc"
      },
      "outputs": [],
      "source": []
    },
    {
      "cell_type": "markdown",
      "source": [
        "Realizar un programa que permita capturar tu nombre y lo imprima seguido de una bienvenida"
      ],
      "metadata": {
        "id": "56xGiwiI_OR9"
      }
    },
    {
      "cell_type": "code",
      "source": [
        "Nombre= input((\"Inserta tu nombre:\"))\n",
        "print(\"Un gusto bienvenido\")\n",
        "print(\"Tu nombre es:\",Nombre)\n"
      ],
      "metadata": {
        "colab": {
          "base_uri": "https://localhost:8080/"
        },
        "id": "aHzH5in2_e_s",
        "outputId": "7ff334bf-d1ea-4b56-c7ba-6c8dfdd2e2d1"
      },
      "execution_count": 8,
      "outputs": [
        {
          "output_type": "stream",
          "name": "stdout",
          "text": [
            "Inserta tu nombre:alan alexis\n",
            "Un gusto bienvenido\n",
            "Tu nombre es: alan alexis\n"
          ]
        }
      ]
    },
    {
      "cell_type": "markdown",
      "source": [
        "Realizar un programa que permita capturar 2 numeros enteros e imprima la suma,la resta, la multiplicacion y la division entre ellos"
      ],
      "metadata": {
        "id": "JyV7wRiECytE"
      }
    },
    {
      "cell_type": "code",
      "source": [
        "num1=int(input(\"Captura un numero\"))\n",
        "num2=int(input(\"Captura un numero\"))\n",
        "s=num1+num2\n",
        "r=num1-num2\n",
        "m=num1*num2\n",
        "d=num1/num2\n",
        "print(\"La suma es:\",s)\n",
        "print(\"La resta es:\",r)\n",
        "print(\"La multiplicacion:\",m)\n",
        "print(\"La division:\",d)"
      ],
      "metadata": {
        "colab": {
          "base_uri": "https://localhost:8080/"
        },
        "id": "ye41VS0ZDP_b",
        "outputId": "85066962-9872-4ae4-c5a4-3cf9658ba7b4"
      },
      "execution_count": 12,
      "outputs": [
        {
          "output_type": "stream",
          "name": "stdout",
          "text": [
            "Captura un numero23\n",
            "Captura un numero56\n",
            "La suma es 79\n",
            "La resta es -33\n",
            "La multiplicacion 1288\n",
            "La division 0.4107142857142857\n"
          ]
        }
      ]
    }
  ]
}